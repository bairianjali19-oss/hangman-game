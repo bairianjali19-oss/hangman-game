{
  "metadata": {
    "kernelspec": {
      "name": "xpython",
      "display_name": "Python 3.13 (XPython)",
      "language": "python"
    },
    "language_info": {
      "file_extension": ".py",
      "mimetype": "text/x-python",
      "name": "python",
      "version": "3.13.1"
    }
  },
  "nbformat_minor": 5,
  "nbformat": 4,
  "cells": [
    {
      "id": "2062c624-a8ac-491f-a04e-1ca5e9b37e42",
      "cell_type": "code",
      "source": "import random\nwords = [\"apple\", \"banana\", \"grape\", \"orange\", \"mango\"]\nword = random.choice(words)\nguessed_letters = []\nattempts = 6\nwhile attempts > 0:\n    display_word = \"\"\n    for letter in word:\n        if letter in guessed_letters:\n            display_word += letter + \" \"\n        else:\n            display_word += \"_ \"\n    print(display_word.strip())\n    if all(letter in guessed_letters for letter in word):\n        print(\" You guessed the word:\", word)\n        break\n    guess = input(\"Guess a letter: \").lower()\n    if guess in guessed_letters:\n        print(\"You already guessed that letter!\")\n    elif guess in word:\n        print(\" Correct!\")\n        guessed_letters.append(guess)\n    else:\n        print(\" Wrong!\")\n        attempts -= 1\n        guessed_letters.append(guess)\n        print(\"Attempts left:\", attempts)\nif attempts == 0:\n    print(\"Out of attempts! The word was:\", word)",
      "metadata": {
        "trusted": true
      },
      "outputs": [
        {
          "name": "stdout",
          "output_type": "stream",
          "text": "_ _ _ _ _\n"
        },
        {
          "output_type": "stream",
          "name": "stdin",
          "text": "Guess a letter:  m\n"
        },
        {
          "name": "stdout",
          "output_type": "stream",
          "text": " Correct!\nm _ _ _ _\n"
        },
        {
          "output_type": "stream",
          "name": "stdin",
          "text": "Guess a letter:  a\n"
        },
        {
          "name": "stdout",
          "output_type": "stream",
          "text": " Correct!\nm a _ _ _\n"
        },
        {
          "output_type": "stream",
          "name": "stdin",
          "text": "Guess a letter:  n\n"
        },
        {
          "name": "stdout",
          "output_type": "stream",
          "text": " Correct!\nm a n _ _\n"
        },
        {
          "output_type": "stream",
          "name": "stdin",
          "text": "Guess a letter:  g\n"
        },
        {
          "name": "stdout",
          "output_type": "stream",
          "text": " Correct!\nm a n g _\n"
        },
        {
          "output_type": "stream",
          "name": "stdin",
          "text": "Guess a letter:  o\n"
        },
        {
          "name": "stdout",
          "output_type": "stream",
          "text": " Correct!\nm a n g o\n You guessed the word: mango\n"
        }
      ],
      "execution_count": 3
    },
    {
      "id": "907acf72-cca9-439d-873e-608aa6d4b83e",
      "cell_type": "code",
      "source": "",
      "metadata": {
        "trusted": true
      },
      "outputs": [],
      "execution_count": null
    }
  ]
}